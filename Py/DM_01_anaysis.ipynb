{
 "cells": [
  {
   "cell_type": "code",
   "execution_count": null,
   "metadata": {
    "id": "0TeeS81URFT6"
   },
   "outputs": [],
   "source": [
    "# Some liks\n",
    "# https://www.kaggle.com/c/titanic#\n",
    "# https://www.kaggle.com/aselad/exploratory-data-analysis-on-the-titanic-dataset\n",
    "\n",
    "# De acuerdo con la descripción de la base de datos,\n",
    "# (https://www.kaggle.com/c/titanic#), la variable objetivo (y) corresponde\n",
    "# a la columna 'Survived', y las variables independientes (predictores, X) son\n",
    "# el resto de las columnas."
   ]
  },
  {
   "cell_type": "code",
   "execution_count": 114,
   "metadata": {
    "id": "k-HxGyzCQK-5"
   },
   "outputs": [],
   "source": [
    "import numpy as np              # numerical python\n",
    "import pandas as pd             # dealing with dataframes (excel-like tables)\n",
    "import matplotlib.pyplot as plt # Basic plots\n",
    "import seaborn as sns           # Advanced plots. Built on top of matplotlib.\n",
    "import math"
   ]
  },
  {
   "cell_type": "markdown",
   "metadata": {
    "id": "Z-JrdQgGTE7i"
   },
   "source": [
    "# Part 0: Load data and clean data"
   ]
  },
  {
   "cell_type": "code",
   "execution_count": 115,
   "metadata": {
    "colab": {
     "base_uri": "https://localhost:8080/",
     "height": 565
    },
    "id": "j4-L_BkHQQU0",
    "outputId": "cc86e6eb-b7e3-4573-def3-dbf37a6f6cae"
   },
   "outputs": [
    {
     "name": "stdout",
     "output_type": "stream",
     "text": [
      "(6581, 8)\n"
     ]
    },
    {
     "data": {
      "text/html": [
       "<div>\n",
       "<style scoped>\n",
       "    .dataframe tbody tr th:only-of-type {\n",
       "        vertical-align: middle;\n",
       "    }\n",
       "\n",
       "    .dataframe tbody tr th {\n",
       "        vertical-align: top;\n",
       "    }\n",
       "\n",
       "    .dataframe thead th {\n",
       "        text-align: right;\n",
       "    }\n",
       "</style>\n",
       "<table border=\"1\" class=\"dataframe\">\n",
       "  <thead>\n",
       "    <tr style=\"text-align: right;\">\n",
       "      <th></th>\n",
       "      <th>time</th>\n",
       "      <th>+/Nck/!SD/nckServoDataActCurr32 [u1; 1]</th>\n",
       "      <th>+/Nck/!SD/nckServoDataActCurr32 [u1; 2]</th>\n",
       "      <th>+/Nck/!SD/nckServoDataActCurr32 [u1; 4]</th>\n",
       "      <th>+/Nck/!SD/nckServoDataActPos1stEnc32 [u1; 2]</th>\n",
       "      <th>+/Nck/!SD/nckServoDataActPos1stEnc32 [u1; 3]</th>\n",
       "      <th>+/Nck/!SD/nckServoDataActPos1stEnc32 [u1; 4]</th>\n",
       "      <th>+/Channel/!RP/rpa [u1; 15]</th>\n",
       "    </tr>\n",
       "  </thead>\n",
       "  <tbody>\n",
       "    <tr>\n",
       "      <th>0</th>\n",
       "      <td>0.000</td>\n",
       "      <td>0.13202</td>\n",
       "      <td>-0.07947</td>\n",
       "      <td>1.80469</td>\n",
       "      <td>235.52499</td>\n",
       "      <td>-338.03159</td>\n",
       "      <td>128231.39844</td>\n",
       "      <td>1.0</td>\n",
       "    </tr>\n",
       "    <tr>\n",
       "      <th>1</th>\n",
       "      <td>0.002</td>\n",
       "      <td>0.13074</td>\n",
       "      <td>-0.07819</td>\n",
       "      <td>1.79443</td>\n",
       "      <td>235.52499</td>\n",
       "      <td>-338.03180</td>\n",
       "      <td>128256.68750</td>\n",
       "      <td>NaN</td>\n",
       "    </tr>\n",
       "    <tr>\n",
       "      <th>2</th>\n",
       "      <td>0.004</td>\n",
       "      <td>0.13202</td>\n",
       "      <td>-0.07947</td>\n",
       "      <td>1.83545</td>\n",
       "      <td>235.52499</td>\n",
       "      <td>-338.03201</td>\n",
       "      <td>128282.00000</td>\n",
       "      <td>NaN</td>\n",
       "    </tr>\n",
       "    <tr>\n",
       "      <th>3</th>\n",
       "      <td>0.006</td>\n",
       "      <td>0.13202</td>\n",
       "      <td>-0.07947</td>\n",
       "      <td>2.04053</td>\n",
       "      <td>235.52499</td>\n",
       "      <td>-338.03214</td>\n",
       "      <td>128307.27344</td>\n",
       "      <td>NaN</td>\n",
       "    </tr>\n",
       "    <tr>\n",
       "      <th>4</th>\n",
       "      <td>0.008</td>\n",
       "      <td>0.13202</td>\n",
       "      <td>-0.07819</td>\n",
       "      <td>1.84570</td>\n",
       "      <td>235.52499</td>\n",
       "      <td>-338.03226</td>\n",
       "      <td>128332.57031</td>\n",
       "      <td>1.0</td>\n",
       "    </tr>\n",
       "  </tbody>\n",
       "</table>\n",
       "</div>"
      ],
      "text/plain": [
       "    time  +/Nck/!SD/nckServoDataActCurr32 [u1; 1]  \\\n",
       "0  0.000                                  0.13202   \n",
       "1  0.002                                  0.13074   \n",
       "2  0.004                                  0.13202   \n",
       "3  0.006                                  0.13202   \n",
       "4  0.008                                  0.13202   \n",
       "\n",
       "   +/Nck/!SD/nckServoDataActCurr32 [u1; 2]  \\\n",
       "0                                 -0.07947   \n",
       "1                                 -0.07819   \n",
       "2                                 -0.07947   \n",
       "3                                 -0.07947   \n",
       "4                                 -0.07819   \n",
       "\n",
       "   +/Nck/!SD/nckServoDataActCurr32 [u1; 4]  \\\n",
       "0                                  1.80469   \n",
       "1                                  1.79443   \n",
       "2                                  1.83545   \n",
       "3                                  2.04053   \n",
       "4                                  1.84570   \n",
       "\n",
       "   +/Nck/!SD/nckServoDataActPos1stEnc32 [u1; 2]  \\\n",
       "0                                     235.52499   \n",
       "1                                     235.52499   \n",
       "2                                     235.52499   \n",
       "3                                     235.52499   \n",
       "4                                     235.52499   \n",
       "\n",
       "   +/Nck/!SD/nckServoDataActPos1stEnc32 [u1; 3]  \\\n",
       "0                                    -338.03159   \n",
       "1                                    -338.03180   \n",
       "2                                    -338.03201   \n",
       "3                                    -338.03214   \n",
       "4                                    -338.03226   \n",
       "\n",
       "   +/Nck/!SD/nckServoDataActPos1stEnc32 [u1; 4]  +/Channel/!RP/rpa [u1; 15]  \n",
       "0                                  128231.39844                         1.0  \n",
       "1                                  128256.68750                         NaN  \n",
       "2                                  128282.00000                         NaN  \n",
       "3                                  128307.27344                         NaN  \n",
       "4                                  128332.57031                         1.0  "
      ]
     },
     "execution_count": 115,
     "metadata": {},
     "output_type": "execute_result"
    }
   ],
   "source": [
    "# Load dataset\n",
    "data_str ='../E900/process/080807_WearMillingY_50%/Level_002/Trace_080807_101102R00R110R40R50R60.csv'\n",
    "df = pd.read_csv(data_str)\n",
    "print(df.shape)\n",
    "df.head()"
   ]
  },
  {
   "cell_type": "code",
   "execution_count": 116,
   "metadata": {
    "colab": {
     "base_uri": "https://localhost:8080/"
    },
    "id": "tT3tTOHQ9GKy",
    "outputId": "f8fc198f-229c-4129-a849-eb2440ec1450"
   },
   "outputs": [
    {
     "name": "stdout",
     "output_type": "stream",
     "text": [
      "<class 'pandas.core.frame.DataFrame'>\n",
      "RangeIndex: 6581 entries, 0 to 6580\n",
      "Data columns (total 8 columns):\n",
      " #   Column                                        Non-Null Count  Dtype  \n",
      "---  ------                                        --------------  -----  \n",
      " 0   time                                          6581 non-null   float64\n",
      " 1   +/Nck/!SD/nckServoDataActCurr32 [u1; 1]       6581 non-null   float64\n",
      " 2   +/Nck/!SD/nckServoDataActCurr32 [u1; 2]       6581 non-null   float64\n",
      " 3   +/Nck/!SD/nckServoDataActCurr32 [u1; 4]       6581 non-null   float64\n",
      " 4   +/Nck/!SD/nckServoDataActPos1stEnc32 [u1; 2]  6581 non-null   float64\n",
      " 5   +/Nck/!SD/nckServoDataActPos1stEnc32 [u1; 3]  6581 non-null   float64\n",
      " 6   +/Nck/!SD/nckServoDataActPos1stEnc32 [u1; 4]  6581 non-null   float64\n",
      " 7   +/Channel/!RP/rpa [u1; 15]                    1646 non-null   float64\n",
      "dtypes: float64(8)\n",
      "memory usage: 411.4 KB\n"
     ]
    },
    {
     "data": {
      "text/html": [
       "<div>\n",
       "<style scoped>\n",
       "    .dataframe tbody tr th:only-of-type {\n",
       "        vertical-align: middle;\n",
       "    }\n",
       "\n",
       "    .dataframe tbody tr th {\n",
       "        vertical-align: top;\n",
       "    }\n",
       "\n",
       "    .dataframe thead th {\n",
       "        text-align: right;\n",
       "    }\n",
       "</style>\n",
       "<table border=\"1\" class=\"dataframe\">\n",
       "  <thead>\n",
       "    <tr style=\"text-align: right;\">\n",
       "      <th></th>\n",
       "      <th>time</th>\n",
       "      <th>IqAx1</th>\n",
       "      <th>IqAx2</th>\n",
       "      <th>IqAx4</th>\n",
       "      <th>pos1stEncAx2</th>\n",
       "      <th>pos1stEncAx3</th>\n",
       "      <th>pos1stEncAx4</th>\n",
       "      <th>R5</th>\n",
       "    </tr>\n",
       "  </thead>\n",
       "  <tbody>\n",
       "    <tr>\n",
       "      <th>0</th>\n",
       "      <td>0.000</td>\n",
       "      <td>0.13202</td>\n",
       "      <td>-0.07947</td>\n",
       "      <td>1.80469</td>\n",
       "      <td>235.52499</td>\n",
       "      <td>-338.03159</td>\n",
       "      <td>128231.39844</td>\n",
       "      <td>1.0</td>\n",
       "    </tr>\n",
       "    <tr>\n",
       "      <th>1</th>\n",
       "      <td>0.002</td>\n",
       "      <td>0.13074</td>\n",
       "      <td>-0.07819</td>\n",
       "      <td>1.79443</td>\n",
       "      <td>235.52499</td>\n",
       "      <td>-338.03180</td>\n",
       "      <td>128256.68750</td>\n",
       "      <td>NaN</td>\n",
       "    </tr>\n",
       "    <tr>\n",
       "      <th>2</th>\n",
       "      <td>0.004</td>\n",
       "      <td>0.13202</td>\n",
       "      <td>-0.07947</td>\n",
       "      <td>1.83545</td>\n",
       "      <td>235.52499</td>\n",
       "      <td>-338.03201</td>\n",
       "      <td>128282.00000</td>\n",
       "      <td>NaN</td>\n",
       "    </tr>\n",
       "    <tr>\n",
       "      <th>3</th>\n",
       "      <td>0.006</td>\n",
       "      <td>0.13202</td>\n",
       "      <td>-0.07947</td>\n",
       "      <td>2.04053</td>\n",
       "      <td>235.52499</td>\n",
       "      <td>-338.03214</td>\n",
       "      <td>128307.27344</td>\n",
       "      <td>NaN</td>\n",
       "    </tr>\n",
       "    <tr>\n",
       "      <th>4</th>\n",
       "      <td>0.008</td>\n",
       "      <td>0.13202</td>\n",
       "      <td>-0.07819</td>\n",
       "      <td>1.84570</td>\n",
       "      <td>235.52499</td>\n",
       "      <td>-338.03226</td>\n",
       "      <td>128332.57031</td>\n",
       "      <td>1.0</td>\n",
       "    </tr>\n",
       "  </tbody>\n",
       "</table>\n",
       "</div>"
      ],
      "text/plain": [
       "    time    IqAx1    IqAx2    IqAx4  pos1stEncAx2  pos1stEncAx3  pos1stEncAx4  \\\n",
       "0  0.000  0.13202 -0.07947  1.80469     235.52499    -338.03159  128231.39844   \n",
       "1  0.002  0.13074 -0.07819  1.79443     235.52499    -338.03180  128256.68750   \n",
       "2  0.004  0.13202 -0.07947  1.83545     235.52499    -338.03201  128282.00000   \n",
       "3  0.006  0.13202 -0.07947  2.04053     235.52499    -338.03214  128307.27344   \n",
       "4  0.008  0.13202 -0.07819  1.84570     235.52499    -338.03226  128332.57031   \n",
       "\n",
       "    R5  \n",
       "0  1.0  \n",
       "1  NaN  \n",
       "2  NaN  \n",
       "3  NaN  \n",
       "4  1.0  "
      ]
     },
     "execution_count": 116,
     "metadata": {},
     "output_type": "execute_result"
    }
   ],
   "source": [
    "# Print info\n",
    "df.info()\n",
    "\n",
    "# mapping directory\n",
    "map_dir = {'time' : 'time',\n",
    "           '+/Nck/!SD/nckServoDataActCurr32 [u1; 1]': 'IqAx1', \n",
    "           '+/Nck/!SD/nckServoDataActCurr32 [u1; 2]': 'IqAx2',\n",
    "           '+/Nck/!SD/nckServoDataActCurr32 [u1; 3]': 'IqAx3',\n",
    "           '+/Nck/!SD/nckServoDataActPos2ndEnc32 [u1; 1]': 'posAx1',\n",
    "           '+/Nck/!SD/nckServoDataActPos2ndEnc32 [u1; 2]': 'posAx2',\n",
    "           '+/Nck/!SD/nckServoDataActPos2ndEnc32 [u1; 3]': 'posAx3', \n",
    "           '+/Nck/!SD/nckServoDataActPower32 [u1; 6]': 'PowerSp',\n",
    "           '+/Nck/!SD/nckServoDataActVelMot32 [u1; 6]':'VelMotSp', \n",
    "           '+/Nck/!SD/nckServoDataActCurr32 [u1; 4]': 'IqAx4',\n",
    "           '+/Nck/!SD/nckServoDataActPos1stEnc32 [u1; 1]': 'pos1stEncAx1',\n",
    "           '+/Nck/!SD/nckServoDataActPos1stEnc32 [u1; 2]': 'pos1stEncAx2',\n",
    "           '+/Nck/!SD/nckServoDataActPos1stEnc32 [u1; 3]': 'pos1stEncAx3',\n",
    "           '+/Nck/!SD/nckServoDataActPos1stEnc32 [u1; 4]': 'pos1stEncAx4',\n",
    "           '+/Channel/!RP/rpa [u1; 15]': 'R5'}\n",
    "df.rename(columns=map_dir, inplace=True)\n",
    "df.head()"
   ]
  },
  {
   "cell_type": "code",
   "execution_count": 126,
   "metadata": {},
   "outputs": [
    {
     "data": {
      "text/plain": [
       "6581"
      ]
     },
     "execution_count": 126,
     "metadata": {},
     "output_type": "execute_result"
    }
   ],
   "source": [
    "label = 'IqAx4'\n",
    "iq =df[label]\n",
    "iq.size"
   ]
  },
  {
   "cell_type": "markdown",
   "metadata": {},
   "source": [
    "Do some scales:\n",
    "1. Standard scaler (with moving average value and standard deviation)"
   ]
  },
  {
   "cell_type": "code",
   "execution_count": 127,
   "metadata": {},
   "outputs": [],
   "source": [
    "def moving_standard_scaler(time_series, num):\n",
    "    \"\"\"\n",
    "    Optional docstring explaining the function.\n",
    "    \"\"\"\n",
    "    # Function body\n",
    "    # Your code here\n",
    "    N = time_series.size\n",
    "    maf_signal =  [0] * N\n",
    "    maf_sima =  [0] * N\n",
    "    mStdScOut =  [0] * N\n",
    "    \n",
    "    # standard scalar for 1st n values\n",
    "    for k1 in range(0,num-1):\n",
    "        maf_signal[k1] = sum(time_series[0:k1+1]) / len(maf_signal[0:k1+1])\n",
    "        variance = sum((x - maf_signal[k1]) ** 2 for x in time_series[0:k1+1]) / time_series[0:k1+1].size\n",
    "        maf_sima[k1]= math.sqrt(variance)\n",
    "        maf_sima[0]=1\n",
    "        mStdScOut[k1] = (time_series[k1] - maf_signal[k1])/maf_sima[k1]\n",
    "    # standard scalar for values between n+1 and N\n",
    "    for k2 in range(num,N-1):\n",
    "        maf_signal[k2] = sum(time_series[k2-num:k2+1]) / len(maf_signal[k2-num:k2+1])\n",
    "        variance = sum((x - maf_signal[k2]) ** 2 for x in time_series[k2-num:k2+1]) / len(time_series[k2-num:k2+1])\n",
    "        maf_sima[k2]= math.sqrt(variance)\n",
    "        mStdScOut[k2] = (time_series[k2] - maf_signal[k2])/maf_sima[k2]\n",
    "    return mStdScOut  # Optional\n"
   ]
  },
  {
   "cell_type": "code",
   "execution_count": 128,
   "metadata": {},
   "outputs": [],
   "source": [
    "\n",
    "test_iq =moving_standard_scaler(df[label], 12)\n"
   ]
  },
  {
   "cell_type": "code",
   "execution_count": 129,
   "metadata": {
    "colab": {
     "base_uri": "https://localhost:8080/",
     "height": 279
    },
    "id": "1bJNnxwfTrBx",
    "outputId": "606d96c5-64c2-477b-eb81-768f4daae10a"
   },
   "outputs": [
    {
     "data": {
      "image/png": "[encoded data removed]",
      "text/plain": [
       "<Figure size 640x480 with 1 Axes>"
      ]
     },
     "metadata": {},
     "output_type": "display_data"
    }
   ],
   "source": [
    "# time series plot before and after scaling\n",
    "\n",
    "plt.plot(df['time'], test_iq, label = 'moving Std Scale')\n",
    "plt.plot(df['time'], df[label], label = 'rough')\n",
    "plt.legend(loc = 2)\n",
    "plt.show()"
   ]
  },
  {
   "cell_type": "markdown",
   "metadata": {},
   "source": []
  },
  {
   "cell_type": "code",
   "execution_count": null,
   "metadata": {
    "colab": {
     "base_uri": "https://localhost:8080/",
     "height": 279
    },
    "id": "WdLT-cYEXZpT",
    "outputId": "4ed0761d-c4c3-42a8-f636-88502923d611"
   },
   "outputs": [
    {
     "data": {
      "image/png": "[encoded data removed]",
      "text/plain": [
       "<Figure size 864x288 with 1 Axes>"
      ]
     },
     "metadata": {
      "needs_background": "light"
     },
     "output_type": "display_data"
    }
   ],
   "source": [
    "# Correlation of two variables + target variable\n",
    "plt.figure(figsize=(12, 4))\n",
    "sns.violinplot(x='Pclass', y='Sex', hue='Survived', data=df, split=True)\n",
    "plt.show()"
   ]
  }
 ],
 "metadata": {
  "colab": {
   "collapsed_sections": [
    "Z-JrdQgGTE7i",
    "eXRGJfnhTnFl",
    "WC2SMrvaa8W2",
    "3bwZoywqYQcC",
    "96XHK1Y7WiAC",
    "WJu3J0xQpqir",
    "AbOflIPdsulo"
   ],
   "provenance": []
  },
  "kernelspec": {
   "display_name": "NumMeth2024",
   "language": "python",
   "name": "python3"
  },
  "language_info": {
   "codemirror_mode": {
    "name": "ipython",
    "version": 3
   },
   "file_extension": ".py",
   "mimetype": "text/x-python",
   "name": "python",
   "nbconvert_exporter": "python",
   "pygments_lexer": "ipython3",
   "version": "3.12.4"
  }
 },
 "nbformat": 4,
 "nbformat_minor": 1
}
